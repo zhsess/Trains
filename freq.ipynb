{
 "cells": [
  {
   "cell_type": "code",
   "execution_count": null,
   "id": "dd5c5ee4",
   "metadata": {},
   "outputs": [],
   "source": [
    "from obspy.core import *\n",
    "from matplotlib import pyplot as plt\n",
    "\n",
    "from scipy.stats import norm\n",
    "import numpy as np"
   ]
  },
  {
   "cell_type": "code",
   "execution_count": null,
   "id": "16b377a5",
   "metadata": {},
   "outputs": [],
   "source": [
    "data_path = '/Volumes/Hao/data/067/YA/'\n",
    "tr = read(data_path+'R1080/*DPZ*').decimate(factor=5, strict_length=False)"
   ]
  },
  {
   "cell_type": "code",
   "execution_count": null,
   "id": "50297667",
   "metadata": {},
   "outputs": [],
   "source": [
    "tr_new = tr.copy()\n",
    "t0 = UTCDateTime('2020-03-07T17:34:40Z')\n",
    "tr_new.decimate(factor=5, strict_length=False)\n",
    "tr_new = tr_new.slice(t0-600,t0+4200)\n",
    "tr_new.filter('bandpass', freqmin=1, freqmax=7, zerophase=True)\n",
    "tr_new.plot()"
   ]
  },
  {
   "cell_type": "code",
   "execution_count": null,
   "id": "2a393dd3",
   "metadata": {},
   "outputs": [],
   "source": [
    "tr1 = tr_new.slice(t0-600,t0+600)\n",
    "tr2 = tr_new.slice(t0+600,t0+1800)\n",
    "tr3 = tr_new.slice(t0+1800,t0+3000)\n",
    "tr4 = tr_new.slice(t0+3000,t0+4200)\n",
    "\n",
    "data1 = tr1[0].data\n",
    "data2 = tr2[0].data\n",
    "data3 = tr3[0].data\n",
    "data4 = tr4[0].data\n",
    "\n",
    "\n",
    "plt.figure(figsize=(20,15))\n",
    "plt.subplot(3,2,1)\n",
    "plt.specgram(data1,Fs=100,scale='linear')\n",
    "plt.ylim([0,10])\n",
    "plt.xlabel('Time/s')\n",
    "plt.ylabel('Frequency/Hz')\n",
    "\n",
    "plt.subplot(3,2,2)\n",
    "plt.specgram(data2,Fs=100,scale='linear')\n",
    "plt.ylim([0,10])\n",
    "plt.xlabel('Time/s')\n",
    "plt.ylabel('Frequency/Hz')\n",
    "\n",
    "plt.subplot(3,2,3)\n",
    "plt.specgram(data3,Fs=100,scale='linear')\n",
    "plt.ylim([0,10])\n",
    "plt.xlabel('Time/s')\n",
    "plt.ylabel('Frequency/Hz')\n",
    "\n",
    "plt.subplot(3,2,4)\n",
    "plt.specgram(data4,Fs=100,scale='linear')\n",
    "plt.ylim([0,10])\n",
    "plt.xlabel('Time/s')\n",
    "plt.ylabel('Frequency/Hz')\n",
    "\n",
    "plt.subplot(3,2,5)\n",
    "psd1 = plt.psd(data1, Fs=100)\n",
    "psd2 = plt.psd(data2, Fs=100)\n",
    "psd3 = plt.psd(data3, Fs=100)\n",
    "psd4 = plt.psd(data4, Fs=100)\n",
    "plt.legend(['1','2','3','4'])\n",
    "plt.xlim([0,10])\n",
    "plt.ylim([-20,50])\n",
    "\n",
    "plt.show()"
   ]
  },
  {
   "cell_type": "code",
   "execution_count": null,
   "id": "fe5442e7",
   "metadata": {},
   "outputs": [],
   "source": [
    "r1 = 10*np.log10(psd1[0][8:14].sum()/psd2[0][8:14].sum())\n",
    "r2 = 10*np.log10(psd2[0][8:14].sum()/psd3[0][8:14].sum())\n",
    "r3 = 10*np.log10(psd3[0][8:14].sum()/psd4[0][8:14].sum())\n",
    "\n",
    "r4 = 10*np.log10(psd1[0][15:25].sum()/psd2[0][15:25].sum())\n",
    "r5 = 10*np.log10(psd2[0][15:25].sum()/psd3[0][15:25].sum())\n",
    "r6 = 10*np.log10(psd3[0][15:25].sum()/psd3[0][15:25].sum())\n",
    "print(r1-r4, r2-r5, r3-r6)"
   ]
  },
  {
   "cell_type": "code",
   "execution_count": null,
   "id": "0d43a740",
   "metadata": {},
   "outputs": [],
   "source": [
    "event_list = open('../pick/train.gmt').readlines()\n",
    "mar7 = []\n",
    "for k in event_list:\n",
    "    if k[9] >= '7':\n",
    "        mar7.append(UTCDateTime(k[:-1]))   "
   ]
  },
  {
   "cell_type": "code",
   "execution_count": null,
   "id": "358222d4",
   "metadata": {},
   "outputs": [],
   "source": [
    "t0 = UTCDateTime('2020-03-07T00:00:00Z')\n",
    "k,n = 0,0\n",
    "ratios = []\n",
    "while t0 < UTCDateTime('2020-03-07T23:40:00Z'):\n",
    "    if t0+1800 > mar7[k]:\n",
    "        t0 += 2400\n",
    "        k += 1\n",
    "    else:\n",
    "        n += 1\n",
    "        tr_new = tr.copy()\n",
    "        tr_new = tr_new.slice(t0-600,t0+1800)\n",
    "        tr_new.filter('bandpass', freqmin=1, freqmax=5, zerophase=True)\n",
    "    \n",
    "        tr1 = tr_new.slice(t0-600,t0+600)\n",
    "        tr2 = tr_new.slice(t0+600,t0+1800)\n",
    "        data1 = tr1[0].data\n",
    "        data2 = tr2[0].data\n",
    "        psd1 = plt.psd(data1, Fs=100)\n",
    "        psd2 = plt.psd(data2, Fs=100)\n",
    "    \n",
    "        r1 = 10*np.log10(psd1[0][8:14].sum()/psd2[0][8:14].sum())\n",
    "        r4 = 10*np.log10(psd1[0][15:25].sum()/psd2[0][15:25].sum())\n",
    "        ratio = r1 - r4\n",
    "        ratios.append(ratio)\n",
    "        \n",
    "        t0 += 10\n",
    "        print(n, ratio)"
   ]
  },
  {
   "cell_type": "code",
   "execution_count": null,
   "id": "15da03a7",
   "metadata": {},
   "outputs": [],
   "source": [
    "for k in range(len(mar7)):\n",
    "    t0 = mar7[k]\n",
    "    tr_new = tr.copy()\n",
    "    tr_new = tr_new.slice(t0-600,t0+1800)\n",
    "    tr_new.filter('bandpass', freqmin=1, freqmax=5, zerophase=True)\n",
    "    \n",
    "    tr1 = tr_new.slice(t0-600,t0+600)\n",
    "    tr2 = tr_new.slice(t0+600,t0+1800)\n",
    "    data1 = tr1[0].data\n",
    "    data2 = tr2[0].data\n",
    "    psd1 = plt.psd(data1, Fs=100)\n",
    "    psd2 = plt.psd(data2, Fs=100)\n",
    "    \n",
    "    r1 = 10*np.log10(psd1[0][8:14].sum()/psd2[0][8:14].sum())\n",
    "    r4 = 10*np.log10(psd1[0][15:25].sum()/psd2[0][15:25].sum())\n",
    "    print(r1-r4)\n",
    "    \n",
    "    "
   ]
  },
  {
   "cell_type": "code",
   "execution_count": null,
   "id": "78a10218",
   "metadata": {},
   "outputs": [],
   "source": [
    "mu, sigma = np.mean(ratios), np.std(ratios)\n",
    "n, bins, patches = plt.hist(ratios, bins=50, density=True, alpha=0.5)\n",
    "\n",
    "x = np.linspace(-10, 10, 100)\n",
    "plt.plot(x, norm.pdf(x, mu, sigma))\n",
    "plt.show()"
   ]
  },
  {
   "cell_type": "code",
   "execution_count": null,
   "id": "924cfcbd",
   "metadata": {},
   "outputs": [],
   "source": [
    "mu, sigma"
   ]
  },
  {
   "cell_type": "code",
   "execution_count": null,
   "id": "d0f71137",
   "metadata": {},
   "outputs": [],
   "source": []
  }
 ],
 "metadata": {
  "kernelspec": {
   "display_name": "obspy",
   "language": "python",
   "name": "obspy"
  },
  "language_info": {
   "codemirror_mode": {
    "name": "ipython",
    "version": 3
   },
   "file_extension": ".py",
   "mimetype": "text/x-python",
   "name": "python",
   "nbconvert_exporter": "python",
   "pygments_lexer": "ipython3",
   "version": "3.8.13"
  },
  "varInspector": {
   "cols": {
    "lenName": 16,
    "lenType": 16,
    "lenVar": 40
   },
   "kernels_config": {
    "python": {
     "delete_cmd_postfix": "",
     "delete_cmd_prefix": "del ",
     "library": "var_list.py",
     "varRefreshCmd": "print(var_dic_list())"
    },
    "r": {
     "delete_cmd_postfix": ") ",
     "delete_cmd_prefix": "rm(",
     "library": "var_list.r",
     "varRefreshCmd": "cat(var_dic_list()) "
    }
   },
   "types_to_exclude": [
    "module",
    "function",
    "builtin_function_or_method",
    "instance",
    "_Feature"
   ],
   "window_display": false
  }
 },
 "nbformat": 4,
 "nbformat_minor": 5
}
